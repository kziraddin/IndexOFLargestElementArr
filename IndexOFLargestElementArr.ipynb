{
 "cells": [
  {
   "cell_type": "code",
   "execution_count": 33,
   "id": "dcfaa3fb",
   "metadata": {},
   "outputs": [
    {
     "name": "stdout",
     "output_type": "stream",
     "text": [
      "(4, 25)\n"
     ]
    }
   ],
   "source": [
    "def biggestInPos(A):\n",
    "    # Write your code here\n",
    "    max_value = 0\n",
    "    index_max = 0\n",
    "    \n",
    "    for i in range(0, len(A)):\n",
    "        if A[i] > max_value:\n",
    "            max_value = A[i]\n",
    "            index_max = i\n",
    "    return index_max, max_value\n",
    "\n",
    "\n",
    "A2 = [-5,12,-31,7,25]\n",
    "result = biggestInPos(A2)\n",
    "\n",
    "print(result)\n",
    "\n",
    "\n",
    "        "
   ]
  },
  {
   "cell_type": "code",
   "execution_count": null,
   "id": "76881f9a",
   "metadata": {},
   "outputs": [],
   "source": []
  }
 ],
 "metadata": {
  "kernelspec": {
   "display_name": "Python 3 (ipykernel)",
   "language": "python",
   "name": "python3"
  },
  "language_info": {
   "codemirror_mode": {
    "name": "ipython",
    "version": 3
   },
   "file_extension": ".py",
   "mimetype": "text/x-python",
   "name": "python",
   "nbconvert_exporter": "python",
   "pygments_lexer": "ipython3",
   "version": "3.9.12"
  }
 },
 "nbformat": 4,
 "nbformat_minor": 5
}
